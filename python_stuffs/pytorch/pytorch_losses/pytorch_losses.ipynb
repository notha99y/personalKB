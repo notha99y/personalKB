{
 "cells": [
  {
   "cell_type": "code",
   "execution_count": null,
   "id": "d7b5277c",
   "metadata": {},
   "outputs": [],
   "source": [
    "import math\n",
    "import torch\n",
    "import torch.nn as nn\n",
    "import numpy as np"
   ]
  },
  {
   "cell_type": "markdown",
   "id": "1c800633",
   "metadata": {},
   "source": [
    "# Binary Cross Entropy\n",
    "\n",
    "- [link](https://pytorch.org/docs/stable/generated/torch.nn.BCELoss.html)\n",
    "- target values y should between 0 and 1\n",
    "- "
   ]
  },
  {
   "cell_type": "markdown",
   "id": "346ad280",
   "metadata": {},
   "source": [
    "## Pytorch implementation"
   ]
  },
  {
   "cell_type": "code",
   "execution_count": null,
   "id": "247567af",
   "metadata": {},
   "outputs": [],
   "source": [
    "test_input = np.array([\n",
    "    -0.231, 1.423, 0.6642\n",
    "])\n",
    "\n",
    "test_target = np.array([\n",
    "    1.0, 1.0, 0.0\n",
    "])"
   ]
  },
  {
   "cell_type": "code",
   "execution_count": null,
   "id": "364cfedd",
   "metadata": {},
   "outputs": [],
   "source": [
    "test_input_tensor = torch.from_numpy(test_input)\n",
    "test_target_tensor = torch.from_numpy(test_target)\n",
    "test_input_tensor.requires_grad = True"
   ]
  },
  {
   "cell_type": "code",
   "execution_count": null,
   "id": "e086dfa5",
   "metadata": {},
   "outputs": [],
   "source": [
    "activation = nn.Sigmoid()\n",
    "criterion = nn.BCELoss()"
   ]
  },
  {
   "cell_type": "code",
   "execution_count": null,
   "id": "2b52abfe",
   "metadata": {},
   "outputs": [],
   "source": [
    "test_input_tensor.requires_grad = True"
   ]
  },
  {
   "cell_type": "code",
   "execution_count": null,
   "id": "cd7b417d",
   "metadata": {},
   "outputs": [],
   "source": [
    "test_target_tensor.requires_grad = False"
   ]
  },
  {
   "cell_type": "code",
   "execution_count": null,
   "id": "3e287cb9",
   "metadata": {},
   "outputs": [],
   "source": [
    "z = activation(test_input_tensor)"
   ]
  },
  {
   "cell_type": "code",
   "execution_count": null,
   "id": "41eabaa9",
   "metadata": {},
   "outputs": [],
   "source": [
    "z"
   ]
  },
  {
   "cell_type": "code",
   "execution_count": null,
   "id": "a3ab4419",
   "metadata": {},
   "outputs": [],
   "source": [
    "loss = criterion(z, test_target_tensor)"
   ]
  },
  {
   "cell_type": "code",
   "execution_count": null,
   "id": "66488107",
   "metadata": {},
   "outputs": [],
   "source": [
    "loss"
   ]
  },
  {
   "cell_type": "markdown",
   "id": "2ff150bd",
   "metadata": {},
   "source": [
    "## Manual implementation"
   ]
  },
  {
   "cell_type": "code",
   "execution_count": null,
   "id": "58b75205",
   "metadata": {},
   "outputs": [],
   "source": [
    "y = test_target\n",
    "yhat = z.detach().numpy()"
   ]
  },
  {
   "cell_type": "code",
   "execution_count": null,
   "id": "de834acc",
   "metadata": {},
   "outputs": [],
   "source": [
    "losses = []\n",
    "for i in range(3):\n",
    "    losses.append(-(y[i]*math.log(yhat[i]) + (1-y[i])*math.log(1 - yhat[i])))"
   ]
  },
  {
   "cell_type": "code",
   "execution_count": null,
   "id": "e1a243f4",
   "metadata": {},
   "outputs": [],
   "source": [
    "losses"
   ]
  },
  {
   "cell_type": "code",
   "execution_count": null,
   "id": "cda17395",
   "metadata": {},
   "outputs": [],
   "source": [
    "sum(losses)/3"
   ]
  },
  {
   "cell_type": "markdown",
   "id": "c3b5c382",
   "metadata": {},
   "source": [
    "# Binary Cross Entropy with logits\n",
    "- [link](https://pytorch.org/docs/stable/generated/torch.nn.BCEWithLogitsLoss.html)\n",
    "- combines a Sigmoid layer and the BCELoss in one single class\n",
    "- This versionis more numerically stable than using a plain Sigmoid followed by a BCELoss, by combining the operations into one layer, we take advantage of the log-sum exp trick for numerical stability"
   ]
  },
  {
   "cell_type": "code",
   "execution_count": null,
   "id": "01e9e6d4",
   "metadata": {},
   "outputs": [],
   "source": [
    "test_input = np.array([\n",
    "    -0.231, 1.423, 0.6642\n",
    "])\n",
    "\n",
    "test_target = np.array([\n",
    "    1.0, 1.0, 0.0\n",
    "])"
   ]
  },
  {
   "cell_type": "code",
   "execution_count": null,
   "id": "28da0ee9",
   "metadata": {},
   "outputs": [],
   "source": [
    "test_input_tensor = torch.from_numpy(test_input)\n",
    "test_target_tensor = torch.from_numpy(test_target)\n",
    "test_input_tensor.requires_grad = True"
   ]
  },
  {
   "cell_type": "code",
   "execution_count": null,
   "id": "ff5dbd94",
   "metadata": {},
   "outputs": [],
   "source": [
    "criterion = nn.BCEWithLogitsLoss()"
   ]
  },
  {
   "cell_type": "code",
   "execution_count": null,
   "id": "98b5950e",
   "metadata": {},
   "outputs": [],
   "source": [
    "loss = criterion(test_input_tensor, test_target_tensor)"
   ]
  },
  {
   "cell_type": "code",
   "execution_count": null,
   "id": "763c56b5",
   "metadata": {},
   "outputs": [],
   "source": [
    "loss"
   ]
  },
  {
   "cell_type": "markdown",
   "id": "71f9d33d",
   "metadata": {},
   "source": [
    "# Categorical Cross Entropy\n",
    "- [link](https://pytorch.org/docs/stable/generated/torch.nn.CrossEntropyLoss.html)\n",
    "- useful when training a classification problem with C classes."
   ]
  },
  {
   "cell_type": "code",
   "execution_count": null,
   "id": "994f6978",
   "metadata": {},
   "outputs": [],
   "source": [
    "test_input = np.array([\n",
    "    -0.231, 1.423, 0.6642\n",
    "])\n",
    "\n",
    "test_target = np.array([\n",
    "    1, 1, 0\n",
    "])"
   ]
  },
  {
   "cell_type": "code",
   "execution_count": null,
   "id": "1eef75ba",
   "metadata": {},
   "outputs": [],
   "source": [
    "test_input = np.expand_dims(test_input, axis = 1)\n",
    "# test_target = np.expand_dims(test_target, axis = 1)"
   ]
  },
  {
   "cell_type": "code",
   "execution_count": null,
   "id": "b4f12162",
   "metadata": {},
   "outputs": [],
   "source": [
    "test_input_tensor = torch.from_numpy(test_input)\n",
    "test_target_tensor = torch.from_numpy(test_target)\n",
    "test_input_tensor.requires_grad = True"
   ]
  },
  {
   "cell_type": "code",
   "execution_count": null,
   "id": "379487b6",
   "metadata": {},
   "outputs": [],
   "source": [
    "test_input_tensor.shape, test_target_tensor.shape"
   ]
  },
  {
   "cell_type": "code",
   "execution_count": null,
   "id": "3f364233",
   "metadata": {},
   "outputs": [],
   "source": [
    "test_input_tensor"
   ]
  },
  {
   "cell_type": "code",
   "execution_count": null,
   "id": "a08893a6",
   "metadata": {},
   "outputs": [],
   "source": [
    "test_target_tensor"
   ]
  },
  {
   "cell_type": "code",
   "execution_count": null,
   "id": "82d6b04e",
   "metadata": {},
   "outputs": [],
   "source": [
    "criterion = nn.CrossEntropyLoss()"
   ]
  },
  {
   "cell_type": "code",
   "execution_count": null,
   "id": "732e5c32",
   "metadata": {},
   "outputs": [],
   "source": [
    "loss = criterion(test_input_tensor, test_target_tensor)"
   ]
  },
  {
   "cell_type": "code",
   "execution_count": null,
   "id": "78661f27",
   "metadata": {},
   "outputs": [],
   "source": [
    "input = torch.randn(3, 5, requires_grad=True)"
   ]
  },
  {
   "cell_type": "code",
   "execution_count": null,
   "id": "f77bc4a0",
   "metadata": {},
   "outputs": [],
   "source": [
    "input"
   ]
  },
  {
   "cell_type": "code",
   "execution_count": null,
   "id": "ee7f57f3",
   "metadata": {},
   "outputs": [],
   "source": [
    "target = torch.empty(3, dtype=torch.long).random_(5)"
   ]
  },
  {
   "cell_type": "code",
   "execution_count": null,
   "id": "55c2f0c7",
   "metadata": {},
   "outputs": [],
   "source": [
    "target.shape"
   ]
  },
  {
   "cell_type": "code",
   "execution_count": null,
   "id": "6eb56c72",
   "metadata": {},
   "outputs": [],
   "source": [
    "output = criterion(input, target)"
   ]
  },
  {
   "cell_type": "code",
   "execution_count": null,
   "id": "f24579e7",
   "metadata": {},
   "outputs": [],
   "source": [
    "output"
   ]
  }
 ],
 "metadata": {
  "kernelspec": {
   "display_name": "Python 3 (ipykernel)",
   "language": "python",
   "name": "python3"
  },
  "language_info": {
   "codemirror_mode": {
    "name": "ipython",
    "version": 3
   },
   "file_extension": ".py",
   "mimetype": "text/x-python",
   "name": "python",
   "nbconvert_exporter": "python",
   "pygments_lexer": "ipython3",
   "version": "3.8.12"
  }
 },
 "nbformat": 4,
 "nbformat_minor": 5
}
